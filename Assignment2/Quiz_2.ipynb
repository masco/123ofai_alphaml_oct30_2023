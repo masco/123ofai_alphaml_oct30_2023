{
  "cells": [
    {
      "cell_type": "code",
      "execution_count": null,
      "metadata": {
        "id": "XKYdbT8Mwe7e"
      },
      "outputs": [],
      "source": [
        "\"\"\"\n",
        "Write 3 functions, one for each operation:\n",
        "Input: List of strings\n",
        "Assume: The search elements exist atleast once in the list\n",
        "\"\"\"\n"
      ]
    },
    {
      "cell_type": "code",
      "execution_count": 2,
      "metadata": {
        "id": "UQoc37eixzUs",
        "colab": {
          "base_uri": "https://localhost:8080/"
        },
        "outputId": "4d0f056a-5760-4e22-d097-e9c26c58f6e2"
      },
      "outputs": [
        {
          "output_type": "stream",
          "name": "stdout",
          "text": [
            "2\n"
          ]
        }
      ],
      "source": [
        "\"\"\"\n",
        "Given the input list and element to be found, return the index of the first occurance\n",
        "Input List = [\"hey\", \"how\", \"is\", \"hey\", \"you\", \"how\", \"are\", \"you\", \"hey\"]\n",
        "Search Element = \"you\"\n",
        "Output = 4\n",
        "\"\"\"\n",
        "input_list = [\"hey\", \"how\", \"is\", \"hey\", \"you\", \"how\", \"are\", \"you\", \"hey\"]\n",
        "\n",
        "def search(input_list, search_elem):\n",
        "  for index, element in enumerate(input_list):\n",
        "    if element == search_elem:\n",
        "      return index\n",
        "\n",
        "output = search(input_list, 'is')\n",
        "print(output)"
      ]
    },
    {
      "cell_type": "code",
      "execution_count": 6,
      "metadata": {
        "id": "QjwLVStYyBHQ",
        "colab": {
          "base_uri": "https://localhost:8080/"
        },
        "outputId": "322f116b-4112-44c0-a530-84857b4fd67e"
      },
      "outputs": [
        {
          "output_type": "stream",
          "name": "stdout",
          "text": [
            "2\n"
          ]
        }
      ],
      "source": [
        "\"\"\"\n",
        "Given the input list, count the number of elements equal to 'search_elem'\n",
        "Input List = [\"hey\", \"how\", \"is\", \"hey\", \"you\", \"how\", \"are\", \"you\", \"hey\"]\n",
        "Search Element = \"hey\"\n",
        "Output = 3\n",
        "\"\"\"\n",
        "input_list = [\"hey\", \"how\", \"is\", \"hey\", \"you\", \"how\", \"are\", \"you\", \"hey\"]\n",
        "def count(input_list, search_elem):\n",
        "  count = 0\n",
        "  for ele in input_list:\n",
        "    if ele == search_elem:\n",
        "      count += 1\n",
        "  return count\n",
        "\n",
        "output = count(input_list, 'how')\n",
        "print(output)\n"
      ]
    },
    {
      "cell_type": "code",
      "execution_count": 7,
      "metadata": {
        "id": "6DanXkDvyTuY",
        "colab": {
          "base_uri": "https://localhost:8080/"
        },
        "outputId": "ba6f0415-cac9-441c-cee9-4b50fed047c4"
      },
      "outputs": [
        {
          "output_type": "stream",
          "name": "stdout",
          "text": [
            "{'hey': [0, 3, 8], 'you': [4, 7]}\n"
          ]
        }
      ],
      "source": [
        "\"\"\"\n",
        "Given the input list, and another list of search terms, return a dict with a list of their corresponding indices\n",
        "Input List = [\"hey\", \"how\", \"is\", \"hey\", \"you\", \"how\", \"are\", \"you\", \"hey\"]\n",
        "Search List = [\"hey\", \"you\"]\n",
        "Output Dict = {\n",
        "  \"hey\" : [0, 3, 8],\n",
        "  \"you\" : [4, 7]\n",
        "}\n",
        "\n",
        "Concept: Nested for loops -> One for loop inside another\n",
        "\"\"\"\n",
        "\n",
        "def search_location(input_list, search_list):\n",
        "  output = {}\n",
        "  for search_ele in search_list:\n",
        "    list = []\n",
        "    for idx, ele in enumerate(input_list):\n",
        "      if ele == search_ele:\n",
        "        list.append(idx)\n",
        "    output[search_ele] = list\n",
        "  return output\n",
        "\n",
        "input_list = [\"hey\", \"how\", \"is\", \"hey\", \"you\", \"how\", \"are\", \"you\", \"hey\"]\n",
        "search_list = [\"hey\", \"you\"]\n",
        "output = search_location(input_list, search_list)\n",
        "print(output)\n"
      ]
    }
  ],
  "metadata": {
    "colab": {
      "provenance": []
    },
    "kernelspec": {
      "display_name": "Python 3",
      "name": "python3"
    },
    "language_info": {
      "name": "python"
    }
  },
  "nbformat": 4,
  "nbformat_minor": 0
}